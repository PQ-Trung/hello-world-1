{
  "nbformat": 4,
  "nbformat_minor": 0,
  "metadata": {
    "colab": {
      "name": "Bien bao gthong.ipynb",
      "provenance": [],
      "collapsed_sections": [],
      "mount_file_id": "1wnTpv_yq-rfXcOrjhPwBa7-mI6xgyeGq",
      "authorship_tag": "ABX9TyOVDFnX8SD7yxPX8XfLQmcX",
      "include_colab_link": true
    },
    "kernelspec": {
      "name": "python3",
      "display_name": "Python 3"
    },
    "accelerator": "GPU"
  },
  "cells": [
    {
      "cell_type": "markdown",
      "metadata": {
        "id": "view-in-github",
        "colab_type": "text"
      },
      "source": [
        "<a href=\"https://colab.research.google.com/github/PQ-Trung/hello-world-1/blob/master/Bien_bao_gthong.ipynb\" target=\"_parent\"><img src=\"https://colab.research.google.com/assets/colab-badge.svg\" alt=\"Open In Colab\"/></a>"
      ]
    },
    {
      "cell_type": "code",
      "metadata": {
        "id": "I5eAQCim1SE9",
        "colab_type": "code",
        "colab": {}
      },
      "source": [
        "train_path = \"/content/drive/My Drive/data/train.p\"\n",
        "test_path = \"/content/drive/My Drive/data/test.p\"\n",
        "valid_path = \"/content/drive/My Drive/data/valid.p\""
      ],
      "execution_count": 0,
      "outputs": []
    },
    {
      "cell_type": "code",
      "metadata": {
        "id": "zqK3A22x2uge",
        "colab_type": "code",
        "colab": {}
      },
      "source": [
        "import tensorflow as tf\n",
        "import tensorflow_datasets as tfds\n",
        "import numpy as np\n",
        "import pandas as pd"
      ],
      "execution_count": 0,
      "outputs": []
    },
    {
      "cell_type": "code",
      "metadata": {
        "id": "xZbmQChc4CwS",
        "colab_type": "code",
        "colab": {}
      },
      "source": [
        "import pickle"
      ],
      "execution_count": 0,
      "outputs": []
    },
    {
      "cell_type": "code",
      "metadata": {
        "id": "nAkM5Hwn3ddo",
        "colab_type": "code",
        "colab": {}
      },
      "source": [
        "with open(train_path, mode = 'rb') as f:\n",
        "    train = pickle.load(f)"
      ],
      "execution_count": 0,
      "outputs": []
    },
    {
      "cell_type": "code",
      "metadata": {
        "id": "kU3fw1MB39G8",
        "colab_type": "code",
        "colab": {}
      },
      "source": [
        "with open(valid_path, mode = 'rb') as f:\n",
        "    valid = pickle.load(f)"
      ],
      "execution_count": 0,
      "outputs": []
    },
    {
      "cell_type": "code",
      "metadata": {
        "id": "YnjkfZ1d4HQB",
        "colab_type": "code",
        "colab": {}
      },
      "source": [
        "with open(test_path, mode = 'rb') as f:\n",
        "    test = pickle.load(f)"
      ],
      "execution_count": 0,
      "outputs": []
    },
    {
      "cell_type": "code",
      "metadata": {
        "id": "rl4CeA9O7vju",
        "colab_type": "code",
        "colab": {}
      },
      "source": [
        "classNames = {0: 'Speed limit (20km/h)',\n",
        " 1: 'Speed limit (30km/h)',\n",
        " 2: 'Speed limit (50km/h)',\n",
        " 3: 'Speed limit (60km/h)',\n",
        " 4: 'Speed limit (70km/h)',\n",
        " 5: 'Speed limit (80km/h)',\n",
        " 6: 'End of speed limit (80km/h)',\n",
        " 7: 'Speed limit (100km/h)',\n",
        " 8: 'Speed limit (120km/h)',\n",
        " 9: 'No passing',\n",
        " 10: 'No passing for vehicles over 3.5 metric tons',\n",
        " 11: 'Right-of-way at the next intersection',\n",
        " 12: 'Priority road',\n",
        " 13: 'Yield',\n",
        " 14: 'Stop',\n",
        " 15: 'No vehicles',\n",
        " 16: 'Vehicles over 3.5 metric tons prohibited',\n",
        " 17: 'No entry',\n",
        " 18: 'General caution',\n",
        " 19: 'Dangerous curve to the left',\n",
        " 20: 'Dangerous curve to the right',\n",
        " 21: 'Double curve',\n",
        " 22: 'Bumpy road',\n",
        " 23: 'Slippery road',\n",
        " 24: 'Road narrows on the right',\n",
        " 25: 'Road work',\n",
        " 26: 'Traffic signals',\n",
        " 27: 'Pedestrians',\n",
        " 28: 'Children crossing',\n",
        " 29: 'Bicycles crossing',\n",
        " 30: 'Beware of ice/snow',\n",
        " 31: 'Wild animals crossing',\n",
        " 32: 'End of all speed and passing limits',\n",
        " 33: 'Turn right ahead',\n",
        " 34: 'Turn left ahead',\n",
        " 35: 'Ahead only',\n",
        " 36: 'Go straight or right',\n",
        " 37: 'Go straight or left',\n",
        " 38: 'Keep right',\n",
        " 39: 'Keep left',\n",
        " 40: 'Roundabout mandatory',\n",
        " 41: 'End of no passing',\n",
        " 42: 'End of no passing by vehicles over 3.5 metric tons'}\n"
      ],
      "execution_count": 0,
      "outputs": []
    },
    {
      "cell_type": "code",
      "metadata": {
        "id": "r8RuP6J14JjU",
        "colab_type": "code",
        "colab": {}
      },
      "source": [
        "trainX = train[\"features\"]\n",
        "trainY = train[\"labels\"]"
      ],
      "execution_count": 0,
      "outputs": []
    },
    {
      "cell_type": "code",
      "metadata": {
        "id": "ULPU7Z-24fKe",
        "colab_type": "code",
        "outputId": "bb592c4a-cd28-4453-92f9-d4dba431a741",
        "colab": {
          "base_uri": "https://localhost:8080/",
          "height": 284
        }
      },
      "source": [
        "import matplotlib.pyplot as plt\n",
        "\n",
        "plt.imshow(trainX[500])"
      ],
      "execution_count": 9,
      "outputs": [
        {
          "output_type": "execute_result",
          "data": {
            "text/plain": [
              "<matplotlib.image.AxesImage at 0x7ff6ed8c5e80>"
            ]
          },
          "metadata": {
            "tags": []
          },
          "execution_count": 9
        },
        {
          "output_type": "display_data",
          "data": {
            "image/png": "[encoded data removed]",
            "text/plain": [
              "<Figure size 432x288 with 1 Axes>"
            ]
          },
          "metadata": {
            "tags": [],
            "needs_background": "light"
          }
        }
      ]
    },
    {
      "cell_type": "code",
      "metadata": {
        "id": "C9-qlba75LsP",
        "colab_type": "code",
        "colab": {}
      },
      "source": [
        "from sklearn.utils import shuffle"
      ],
      "execution_count": 0,
      "outputs": []
    },
    {
      "cell_type": "code",
      "metadata": {
        "id": "GeQOzV225ki-",
        "colab_type": "code",
        "colab": {}
      },
      "source": [
        "trainX, trainY = shuffle(trainX, trainY)"
      ],
      "execution_count": 0,
      "outputs": []
    },
    {
      "cell_type": "code",
      "metadata": {
        "id": "GoMoHYeK5rG8",
        "colab_type": "code",
        "colab": {}
      },
      "source": [
        "validX = valid['features']\n",
        "validY = valid['labels']\n",
        "\n",
        "testX = test['features']\n",
        "testY = test['labels']"
      ],
      "execution_count": 0,
      "outputs": []
    },
    {
      "cell_type": "code",
      "metadata": {
        "id": "gJjpUgh56Bju",
        "colab_type": "code",
        "colab": {}
      },
      "source": [
        "# Normalize\n",
        "trainX = trainX.astype('float')/255.0\n",
        "validX = validX.astype('float')/255.0\n",
        "testX = testX.astype('float')/255.0"
      ],
      "execution_count": 0,
      "outputs": []
    },
    {
      "cell_type": "code",
      "metadata": {
        "id": "mRzWBilN6SsD",
        "colab_type": "code",
        "colab": {}
      },
      "source": [
        "from sklearn.preprocessing import LabelBinarizer"
      ],
      "execution_count": 0,
      "outputs": []
    },
    {
      "cell_type": "code",
      "metadata": {
        "id": "rTnRS68v6pVG",
        "colab_type": "code",
        "colab": {}
      },
      "source": [
        "lb = LabelBinarizer() # chuan hoa ket qua ve onehot"
      ],
      "execution_count": 0,
      "outputs": []
    },
    {
      "cell_type": "code",
      "metadata": {
        "id": "zlLWPHjW6vlQ",
        "colab_type": "code",
        "colab": {}
      },
      "source": [
        "trainY = lb.fit_transform(trainY)\n",
        "validY = lb.fit_transform(validY)"
      ],
      "execution_count": 0,
      "outputs": []
    },
    {
      "cell_type": "code",
      "metadata": {
        "id": "hTm3aZug7Dv4",
        "colab_type": "code",
        "colab": {}
      },
      "source": [
        "from tensorflow.keras.models import Sequential\n",
        "from tensorflow.keras.layers import AveragePooling2D, MaxPooling2D, BatchNormalization\n",
        "from tensorflow.keras.layers import Conv2D, Activation, Dropout\n",
        "from tensorflow.keras.layers import Flatten, Input, Dense, concatenate\n",
        "from tensorflow.keras.preprocessing.image import ImageDataGenerator\n",
        "from tensorflow.keras.optimizers import SGD\n"
      ],
      "execution_count": 0,
      "outputs": []
    },
    {
      "cell_type": "code",
      "metadata": {
        "id": "rfXy5FCl_ITG",
        "colab_type": "code",
        "colab": {}
      },
      "source": [
        "model = Sequential()\n",
        "\n",
        "model.add(Conv2D(32,(3,3), padding = 'same', input_shape = (32,32,3)))\n",
        "model.add(Activation('relu'))\n",
        "model.add(BatchNormalization())\n",
        "model.add(Conv2D(32,(3,3), padding = 'same'))\n",
        "model.add(Activation('relu'))\n",
        "model.add(BatchNormalization())\n",
        "model.add(MaxPooling2D(pool_size = (2,2)))\n",
        "\n",
        "model.add(Conv2D(64,(3,3), padding = 'same'))\n",
        "model.add(Activation('relu'))\n",
        "model.add(BatchNormalization())\n",
        "model.add(Conv2D(64,(3,3), padding = 'same'))\n",
        "model.add(Activation('relu'))\n",
        "model.add(BatchNormalization())\n",
        "model.add(MaxPooling2D(pool_size = (2,2)))\n",
        "\n",
        "model.add(Flatten())\n",
        "model.add(Dense(1024, activation = 'relu'))\n",
        "model.add(BatchNormalization())\n",
        "model.add(Dense(43, activation = 'softmax'))"
      ],
      "execution_count": 0,
      "outputs": []
    },
    {
      "cell_type": "code",
      "metadata": {
        "id": "w8eqXgjMaznE",
        "colab_type": "code",
        "colab": {
          "base_uri": "https://localhost:8080/",
          "height": 809
        },
        "outputId": "c1947f1f-9efb-41e8-8cd2-e04d6cae0c53"
      },
      "source": [
        "model.summary()"
      ],
      "execution_count": 20,
      "outputs": [
        {
          "output_type": "stream",
          "text": [
            "Model: \"sequential_1\"\n",
            "_________________________________________________________________\n",
            "Layer (type)                 Output Shape              Param #   \n",
            "=================================================================\n",
            "conv2d_4 (Conv2D)            (None, 32, 32, 32)        896       \n",
            "_________________________________________________________________\n",
            "activation_4 (Activation)    (None, 32, 32, 32)        0         \n",
            "_________________________________________________________________\n",
            "batch_normalization_4 (Batch (None, 32, 32, 32)        128       \n",
            "_________________________________________________________________\n",
            "conv2d_5 (Conv2D)            (None, 32, 32, 32)        9248      \n",
            "_________________________________________________________________\n",
            "activation_5 (Activation)    (None, 32, 32, 32)        0         \n",
            "_________________________________________________________________\n",
            "batch_normalization_5 (Batch (None, 32, 32, 32)        128       \n",
            "_________________________________________________________________\n",
            "max_pooling2d_2 (MaxPooling2 (None, 16, 16, 32)        0         \n",
            "_________________________________________________________________\n",
            "conv2d_6 (Conv2D)            (None, 16, 16, 64)        18496     \n",
            "_________________________________________________________________\n",
            "activation_6 (Activation)    (None, 16, 16, 64)        0         \n",
            "_________________________________________________________________\n",
            "batch_normalization_6 (Batch (None, 16, 16, 64)        256       \n",
            "_________________________________________________________________\n",
            "conv2d_7 (Conv2D)            (None, 16, 16, 64)        36928     \n",
            "_________________________________________________________________\n",
            "activation_7 (Activation)    (None, 16, 16, 64)        0         \n",
            "_________________________________________________________________\n",
            "batch_normalization_7 (Batch (None, 16, 16, 64)        256       \n",
            "_________________________________________________________________\n",
            "max_pooling2d_3 (MaxPooling2 (None, 8, 8, 64)          0         \n",
            "_________________________________________________________________\n",
            "flatten_1 (Flatten)          (None, 4096)              0         \n",
            "_________________________________________________________________\n",
            "dense_2 (Dense)              (None, 1024)              4195328   \n",
            "_________________________________________________________________\n",
            "batch_normalization_8 (Batch (None, 1024)              4096      \n",
            "_________________________________________________________________\n",
            "dense_3 (Dense)              (None, 43)                44075     \n",
            "=================================================================\n",
            "Total params: 4,309,835\n",
            "Trainable params: 4,307,403\n",
            "Non-trainable params: 2,432\n",
            "_________________________________________________________________\n"
          ],
          "name": "stdout"
        }
      ]
    },
    {
      "cell_type": "code",
      "metadata": {
        "id": "-E3u7V5Ma35f",
        "colab_type": "code",
        "colab": {}
      },
      "source": [
        "# Tăng cường data\n",
        "aug = ImageDataGenerator(rotation_range=0.18, zoom_range = 0.15,\n",
        "                         width_shift_range = 0.2, height_shift_range = 0.2,\n",
        "                         horizontal_flip = True)\n",
        "\n",
        "learning_rate = 0.01"
      ],
      "execution_count": 0,
      "outputs": []
    },
    {
      "cell_type": "code",
      "metadata": {
        "id": "VVG7nPOWcVj_",
        "colab_type": "code",
        "colab": {}
      },
      "source": [
        "epochs = 10\n",
        "batch_size = 64\n",
        "\n",
        "opt = SGD(learning_rate = learning_rate,\n",
        "          momentum = 0.9)"
      ],
      "execution_count": 0,
      "outputs": []
    },
    {
      "cell_type": "code",
      "metadata": {
        "id": "8qtGJ61kcxp6",
        "colab_type": "code",
        "colab": {}
      },
      "source": [
        "model.compile(optimizer = opt, \n",
        "              loss = 'categorical_crossentropy', \n",
        "              metrics = ['accuracy'])"
      ],
      "execution_count": 0,
      "outputs": []
    },
    {
      "cell_type": "code",
      "metadata": {
        "id": "Ut0DRugRdCBx",
        "colab_type": "code",
        "colab": {
          "base_uri": "https://localhost:8080/",
          "height": 395
        },
        "outputId": "060ac9ad-56dc-4172-8350-cddd111a97ce"
      },
      "source": [
        "print('Start Traing!')\n",
        "H = model.fit_generator(aug.flow(trainX, trainY, batch_size = batch_size),\n",
        "                        validation_data = (validX, validY),\n",
        "                        steps_per_epoch = trainX.shape[0]/batch_size,\n",
        "                        epochs = epochs, verbose = 1)"
      ],
      "execution_count": 25,
      "outputs": [
        {
          "output_type": "stream",
          "text": [
            "Start Traing!\n",
            "Epoch 1/10\n",
            "544/543 [==============================] - 19s 36ms/step - loss: 2.1659 - accuracy: 0.4022 - val_loss: 2.1722 - val_accuracy: 0.4726\n",
            "Epoch 2/10\n",
            "544/543 [==============================] - 18s 34ms/step - loss: 0.8730 - accuracy: 0.7148 - val_loss: 1.4812 - val_accuracy: 0.5948\n",
            "Epoch 3/10\n",
            "544/543 [==============================] - 19s 34ms/step - loss: 0.4545 - accuracy: 0.8463 - val_loss: 1.2710 - val_accuracy: 0.6952\n",
            "Epoch 4/10\n",
            "544/543 [==============================] - 19s 35ms/step - loss: 0.2653 - accuracy: 0.9124 - val_loss: 1.0555 - val_accuracy: 0.7467\n",
            "Epoch 5/10\n",
            "544/543 [==============================] - 20s 36ms/step - loss: 0.1874 - accuracy: 0.9367 - val_loss: 0.9058 - val_accuracy: 0.7721\n",
            "Epoch 6/10\n",
            "544/543 [==============================] - 19s 34ms/step - loss: 0.1426 - accuracy: 0.9540 - val_loss: 0.7858 - val_accuracy: 0.8179\n",
            "Epoch 7/10\n",
            "544/543 [==============================] - 18s 34ms/step - loss: 0.1088 - accuracy: 0.9637 - val_loss: 0.9115 - val_accuracy: 0.8063\n",
            "Epoch 8/10\n",
            "544/543 [==============================] - 19s 36ms/step - loss: 0.0903 - accuracy: 0.9701 - val_loss: 0.7405 - val_accuracy: 0.8211\n",
            "Epoch 9/10\n",
            "544/543 [==============================] - 19s 35ms/step - loss: 0.0787 - accuracy: 0.9744 - val_loss: 0.8506 - val_accuracy: 0.8302\n",
            "Epoch 10/10\n",
            "544/543 [==============================] - 19s 35ms/step - loss: 0.0676 - accuracy: 0.9780 - val_loss: 0.6597 - val_accuracy: 0.8565\n"
          ],
          "name": "stdout"
        }
      ]
    },
    {
      "cell_type": "code",
      "metadata": {
        "id": "t_Ym70rIdcfW",
        "colab_type": "code",
        "colab": {}
      },
      "source": [
        "model.save('bienbaogt.h5')"
      ],
      "execution_count": 0,
      "outputs": []
    },
    {
      "cell_type": "code",
      "metadata": {
        "id": "VlRr8xpWdlrE",
        "colab_type": "code",
        "colab": {}
      },
      "source": [
        "saved_model = tf.keras.models.load_model('bienbaogt.h5')"
      ],
      "execution_count": 0,
      "outputs": []
    },
    {
      "cell_type": "code",
      "metadata": {
        "id": "x7oU7x54eGsC",
        "colab_type": "code",
        "colab": {
          "base_uri": "https://localhost:8080/",
          "height": 302
        },
        "outputId": "4b56862c-ef51-4e57-82cb-97352acb96b4"
      },
      "source": [
        "result = saved_model.predict(testX[5:6])\n",
        "final = np.argmax(result)\n",
        "final = classNames[final]\n",
        "print(final)\n",
        "plt.imshow(test['features'][5])"
      ],
      "execution_count": 35,
      "outputs": [
        {
          "output_type": "stream",
          "text": [
            "Keep right\n"
          ],
          "name": "stdout"
        },
        {
          "output_type": "execute_result",
          "data": {
            "text/plain": [
              "<matplotlib.image.AxesImage at 0x7ff674734d68>"
            ]
          },
          "metadata": {
            "tags": []
          },
          "execution_count": 35
        },
        {
          "output_type": "display_data",
          "data": {
            "image/png": "[encoded data removed]",
            "text/plain": [
              "<Figure size 432x288 with 1 Axes>"
            ]
          },
          "metadata": {
            "tags": [],
            "needs_background": "light"
          }
        }
      ]
    }
  ]
}